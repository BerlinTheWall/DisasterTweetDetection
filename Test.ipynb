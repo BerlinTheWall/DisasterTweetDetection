{
 "cells": [
  {
   "cell_type": "code",
   "execution_count": 1,
   "metadata": {
    "collapsed": true,
    "ExecuteTime": {
     "start_time": "2023-11-07T19:38:13.039431Z",
     "end_time": "2023-11-07T19:38:19.438402Z"
    }
   },
   "outputs": [
    {
     "name": "stdout",
     "output_type": "stream",
     "text": [
      "Requirement already satisfied: pyspellchecker in d:\\anaconda\\lib\\site-packages (0.7.2)\n",
      "Requirement already satisfied: autocorrect in d:\\anaconda\\lib\\site-packages (2.6.1)\n"
     ]
    }
   ],
   "source": [
    "!pip install autocorrect\n"
   ]
  },
  {
   "cell_type": "code",
   "execution_count": 1,
   "outputs": [
    {
     "name": "stdout",
     "output_type": "stream",
     "text": [
      "i have live python program ... visit visiting for more info .\n"
     ]
    }
   ],
   "source": [
    "\n",
    "from Preprocessor import Preprocessor\n",
    "text_processor = Preprocessor()\n",
    "input_text = \"I've luve Python prograig....... Visitt viisting </> https://example.com for more info.\"\n",
    "# flags = ['contractions', 'urls', 'punctuation', 'spelling']\n",
    "processed_text = text_processor.process_text(input_text, contractions=True, urls=True,\n",
    "                                             spelling=True,\n",
    "                                             # dots=True,\n",
    "                                             punctuation=True,\n",
    "                                             lowercase=True,\n",
    "                                             lemma=True,\n",
    "                                             html_tags=True\n",
    "                                             )\n",
    "print(processed_text)\n"
   ],
   "metadata": {
    "collapsed": false,
    "ExecuteTime": {
     "start_time": "2023-11-09T15:27:19.737233Z",
     "end_time": "2023-11-09T15:27:21.936853Z"
    }
   }
  },
  {
   "cell_type": "code",
   "execution_count": 2,
   "outputs": [],
   "source": [
    "\n"
   ],
   "metadata": {
    "collapsed": false,
    "ExecuteTime": {
     "start_time": "2023-11-07T19:38:21.066813Z",
     "end_time": "2023-11-07T19:38:21.082825Z"
    }
   }
  }
 ],
 "metadata": {
  "kernelspec": {
   "display_name": "Python 3",
   "language": "python",
   "name": "python3"
  },
  "language_info": {
   "codemirror_mode": {
    "name": "ipython",
    "version": 2
   },
   "file_extension": ".py",
   "mimetype": "text/x-python",
   "name": "python",
   "nbconvert_exporter": "python",
   "pygments_lexer": "ipython2",
   "version": "2.7.6"
  }
 },
 "nbformat": 4,
 "nbformat_minor": 0
}
