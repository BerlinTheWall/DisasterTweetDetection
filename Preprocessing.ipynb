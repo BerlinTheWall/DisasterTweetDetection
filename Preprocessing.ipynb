{
 "cells": [
  {
   "cell_type": "code",
   "execution_count": null,
   "metadata": {
    "collapsed": true
   },
   "outputs": [],
   "source": [
    "import re\n",
    "import string\n",
    "\n",
    "import json\n",
    "from nltk.stem import WordNetLemmatizer\n",
    "\n",
    "!pip install pyspellchecker\n",
    "from spellchecker import SpellChecker"
   ]
  },
  {
   "cell_type": "code",
   "execution_count": null,
   "outputs": [],
   "source": [
    "def replace_contractions(text):\n",
    "    json_file_path = \"contractions.json\"\n",
    "    with open(json_file_path, \"r\") as json_file:\n",
    "        contractions = json.load(json_file)\n",
    "    for key, value in contractions.items():\n",
    "        text = re.sub(re.escape(key), value, text)"
   ],
   "metadata": {
    "collapsed": false
   }
  },
  {
   "cell_type": "code",
   "execution_count": null,
   "outputs": [],
   "source": [
    "def remove_urls(text):\n",
    "    return re.sub(r'https?://\\S+|www\\.\\S+|ftp://\\S+', '', text)"
   ],
   "metadata": {
    "collapsed": false
   }
  },
  {
   "cell_type": "code",
   "execution_count": null,
   "outputs": [],
   "source": [
    "def separate_punctuations_from_words(text):\n",
    "    for p in string.punctuation:\n",
    "        input_str = text.replace(p, f' {p} ')\n",
    "    return text"
   ],
   "metadata": {
    "collapsed": false
   }
  },
  {
   "cell_type": "code",
   "execution_count": null,
   "outputs": [],
   "source": [
    "def replace_continues_dots(text):\n",
    "    continues_dots = ['..', '...', '....', '.....', '......', '.......', '........', '.........', '..........',]\n",
    "    for c in continues_dots:\n",
    "        input_str = text.replace(c, ' ... ')\n",
    "    return text"
   ],
   "metadata": {
    "collapsed": false
   }
  },
  {
   "cell_type": "code",
   "execution_count": null,
   "outputs": [],
   "source": [
    "def remove_html_tags(text):\n",
    "    return re.compile(r'<.*?>').sub(r'', text)"
   ],
   "metadata": {
    "collapsed": false
   }
  },
  {
   "cell_type": "code",
   "execution_count": null,
   "outputs": [],
   "source": [
    "def remove_emoji(text):\n",
    "    emoji_pattern = re.compile('['u'\\U0001F300-\\U0001F5FF'u'\\U0001F600-\\U0001F64F'u'\\U0001F680-\\U0001F6FF'u'\\U0001F1E0-\\U0001F1FF'u'\\U00002702-\\U000027B0'u'\\U000024C2-\\U0001F251'']+', flags = re.UNICODE)\n",
    "    return emoji_pattern.sub(r'', text)"
   ],
   "metadata": {
    "collapsed": false
   }
  },
  {
   "cell_type": "code",
   "execution_count": null,
   "outputs": [],
   "source": [
    "def correct_spelling(input_text):\n",
    "    spell = SpellChecker()\n",
    "    words = input_text.split()\n",
    "    corrected_words = [spell.correction(word) if word in spell.unknown(words) else word for word in words]\n",
    "    corrected_text = \" \".join(corrected_words)\n",
    "\n",
    "    return corrected_text"
   ],
   "metadata": {
    "collapsed": false
   }
  },
  {
   "cell_type": "code",
   "execution_count": null,
   "outputs": [],
   "source": [
    "def convert_abbrev_in_text(text):\n",
    "    json_file_path = \"abbreviations.json\"\n",
    "    with open(json_file_path, \"r\") as json_file:\n",
    "        abbreviations = json.load(json_file)\n",
    "\n",
    "    words = text.split()\n",
    "    converted_words = [abbreviations.get(word.lower(), word) for word in words]\n",
    "    converted_text = ''.join(converted_words)\n",
    "    return converted_text"
   ],
   "metadata": {
    "collapsed": false
   }
  },
  {
   "cell_type": "code",
   "execution_count": null,
   "outputs": [],
   "source": [
    "def lemma(text):\n",
    "    word_net_lemma = WordNetLemmatizer()\n",
    "    return word_net_lemma.lemmatize(text)"
   ],
   "metadata": {
    "collapsed": false
   }
  }
 ],
 "metadata": {
  "kernelspec": {
   "display_name": "Python 3",
   "language": "python",
   "name": "python3"
  },
  "language_info": {
   "codemirror_mode": {
    "name": "ipython",
    "version": 2
   },
   "file_extension": ".py",
   "mimetype": "text/x-python",
   "name": "python",
   "nbconvert_exporter": "python",
   "pygments_lexer": "ipython2",
   "version": "2.7.6"
  }
 },
 "nbformat": 4,
 "nbformat_minor": 0
}
