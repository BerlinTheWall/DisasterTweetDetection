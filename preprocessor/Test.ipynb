{
 "cells": [
  {
   "cell_type": "code",
   "execution_count": 1,
   "metadata": {
    "collapsed": true,
    "ExecuteTime": {
     "start_time": "2023-11-11T17:57:21.245220Z",
     "end_time": "2023-11-11T17:57:21.254743Z"
    }
   },
   "outputs": [],
   "source": [
    "# !pip install autocorrect\n"
   ]
  },
  {
   "cell_type": "code",
   "execution_count": 2,
   "outputs": [
    {
     "name": "stdout",
     "output_type": "stream",
     "text": [
      "the striped bat be hang on their foot for best\n"
     ]
    }
   ],
   "source": [
    "\n",
    "from Preprocessor import Preprocessor\n",
    "text_processor = Preprocessor()\n",
    "input_text = \"The stripeddd bats are hanging on their feet for best\"\n",
    "# flags = ['contractions', 'urls', 'punctuation', 'spelling']\n",
    "processed_text = text_processor.process_text(input_text, contractions=True, urls=True,\n",
    "                                             abbreviations=True,\n",
    "                                             spelling=True,\n",
    "                                             # dots=True,\n",
    "                                             punctuation=True,\n",
    "                                             lowercase=True,\n",
    "                                             lemma=True,\n",
    "                                             html_tags=True\n",
    "                                             )\n",
    "print(processed_text)\n",
    "# print(text_processor.convert_abbrev_in_text(input_text))\n"
   ],
   "metadata": {
    "collapsed": false,
    "ExecuteTime": {
     "start_time": "2023-11-11T17:58:06.499625Z",
     "end_time": "2023-11-11T17:58:06.633612Z"
    }
   }
  },
  {
   "cell_type": "code",
   "execution_count": 3,
   "outputs": [
    {
     "name": "stderr",
     "output_type": "stream",
     "text": [
      "E\n",
      "======================================================================\n",
      "ERROR: C:\\Users\\Hooman\\AppData\\Roaming\\jupyter\\runtime\\kernel-d0203c14-1680-4091-a455-0da61bc338d6 (unittest.loader._FailedTest)\n",
      "----------------------------------------------------------------------\n",
      "AttributeError: module '__main__' has no attribute 'C:\\Users\\Hooman\\AppData\\Roaming\\jupyter\\runtime\\kernel-d0203c14-1680-4091-a455-0da61bc338d6'\n",
      "\n",
      "----------------------------------------------------------------------\n",
      "Ran 1 test in 0.001s\n",
      "\n",
      "FAILED (errors=1)\n"
     ]
    },
    {
     "ename": "SystemExit",
     "evalue": "True",
     "output_type": "error",
     "traceback": [
      "An exception has occurred, use %tb to see the full traceback.\n",
      "\u001B[1;31mSystemExit\u001B[0m\u001B[1;31m:\u001B[0m True\n"
     ]
    },
    {
     "name": "stderr",
     "output_type": "stream",
     "text": [
      "D:\\Anaconda\\lib\\site-packages\\IPython\\core\\interactiveshell.py:3468: UserWarning: To exit: use 'exit', 'quit', or Ctrl-D.\n",
      "  warn(\"To exit: use 'exit', 'quit', or Ctrl-D.\", stacklevel=1)\n"
     ]
    }
   ],
   "source": [
    "import unittest\n",
    "from Preprocessor import Preprocessor\n",
    " # Replace with your actual module name\n",
    "\n",
    "class TestPreprocessor(unittest.TestCase):\n",
    "    def setUp(self):\n",
    "        self.preprocessor = Preprocessor()\n",
    "\n",
    "    def test_remove_urls(self):\n",
    "        input_text = \"Visit our website at https://www.example.com\"\n",
    "        expected_output = \"Visit our website at \"\n",
    "        print(input_text)\n",
    "        self.assertEqual(self.preprocessor.remove_urls(input_text), expected_output)\n",
    "    #\n",
    "    # def test_remove_html_tags(self):\n",
    "    #     input_text = \"<p>This is a <b>bold</b> statement.</p>\"\n",
    "    #     expected_output = \"This is a bold statement.\"\n",
    "    #     self.assertEqual(self.preprocessor.remove_html_tags(input_text), expected_output)\n",
    "    #\n",
    "    # def test_remove_emoji(self):\n",
    "    #     input_text = \"I love Python! 😍🐍\"\n",
    "    #     expected_output = \"I love Python! \"\n",
    "    #     self.assertEqual(self.preprocessor.remove_emoji(input_text), expected_output)\n",
    "    #\n",
    "    # def test_separate_punctuations_from_words(self):\n",
    "    #     input_text = \"Hello, how are you?\"\n",
    "    #     expected_output = \"Hello ,  how are you ? \"\n",
    "    #     self.assertEqual(\n",
    "    #         self.preprocessor.separate_punctuations_from_words(input_text), expected_output\n",
    "    #     )\n",
    "    #\n",
    "    # def test_autocorrect_text(self):\n",
    "    #     input_text = \"Speling misteaks can be embarassing.\"\n",
    "    #     expected_output = \"Spelling mistakes can be embarrassing.\"\n",
    "    #     self.assertEqual(self.preprocessor.autocorrect_text(input_text), expected_output)\n",
    "    #\n",
    "    # def test_convert_abbrev_in_text(self):\n",
    "    #     input_text = \"btw, lmao, atm\"\n",
    "    #     expected_output = \"by the way ,  laughing my ass off ,  at the moment\"\n",
    "    #     self.assertEqual(\n",
    "    #         self.preprocessor.convert_abbrev_in_text(input_text), expected_output\n",
    "    #     )\n",
    "    #\n",
    "    # def test_lemma(self):\n",
    "    #     input_text = \"running\"\n",
    "    #     expected_output = \"run\"\n",
    "    #     self.assertEqual(self.preprocessor.lemma(input_text), expected_output)\n",
    "    #\n",
    "    # def test_to_lowercase(self):\n",
    "    #     input_text = \"Convert This Text To Lowercase\"\n",
    "    #     expected_output = \"convert this text to lowercase\"\n",
    "    #     self.assertEqual(self.preprocessor.to_lowercase(input_text), expected_output)\n",
    "    #\n",
    "    # def test_process_text(self):\n",
    "    #     input_text = \"Hello, World! Visit https://www.example.com for more info.\"\n",
    "    #     expected_output = \"hello ,  world !  visit  for more info . \"\n",
    "    #     self.assertEqual(\n",
    "    #         self.preprocessor.process_text(\n",
    "    #             input_text, urls=True, punctuation=True, lowercase=True\n",
    "    #         ),\n",
    "    #         expected_output,\n",
    "    #     )\n",
    "\n",
    "if __name__ == \"__main__\":\n",
    "    unittest.main()\n"
   ],
   "metadata": {
    "collapsed": false,
    "ExecuteTime": {
     "start_time": "2023-11-07T19:38:21.066813Z",
     "end_time": "2023-11-07T19:38:21.082825Z"
    }
   }
  },
  {
   "cell_type": "code",
   "execution_count": null,
   "outputs": [],
   "source": [
    "\n",
    "from Preprocessor import Preprocessor\n",
    "test = TestPreprocessor()\n",
    "test.setUp()\n",
    "test.test_remove_urls()\n",
    "# input_text = \"I've luve Python prograig....... Visitt viisting </> https://example.com for more info.\"\n",
    "# # flags = ['contractions', 'urls', 'punctuation', 'spelling']\n",
    "# processed_text = text_processor.process_text(input_text, contractions=True, urls=True,\n",
    "#                                              spelling=True,\n",
    "#                                              # dots=True,\n",
    "#                                              punctuation=True,\n",
    "#                                              lowercase=True,\n",
    "#                                              lemma=True,\n",
    "#                                              html_tags=True\n",
    "#                                              )\n",
    "# print(processed_text)"
   ],
   "metadata": {
    "collapsed": false,
    "ExecuteTime": {
     "start_time": "2023-11-11T17:08:00.685572Z",
     "end_time": "2023-11-11T17:08:00.745143Z"
    }
   }
  },
  {
   "cell_type": "code",
   "execution_count": null,
   "outputs": [],
   "source": [
    "%run TestPreprocessor.py"
   ],
   "metadata": {
    "collapsed": false
   }
  }
 ],
 "metadata": {
  "kernelspec": {
   "display_name": "Python 3",
   "language": "python",
   "name": "python3"
  },
  "language_info": {
   "codemirror_mode": {
    "name": "ipython",
    "version": 2
   },
   "file_extension": ".py",
   "mimetype": "text/x-python",
   "name": "python",
   "nbconvert_exporter": "python",
   "pygments_lexer": "ipython2",
   "version": "2.7.6"
  }
 },
 "nbformat": 4,
 "nbformat_minor": 0
}
